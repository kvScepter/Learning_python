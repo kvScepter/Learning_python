{
 "cells": [
  {
   "cell_type": "code",
   "execution_count": 1,
   "metadata": {},
   "outputs": [
    {
     "name": "stdout",
     "output_type": "stream",
     "text": [
      "[(9, 14, 4), (10, 11, 4), (13, 16, 4), (2, 9, 5), (4, 7, 5), (9, 11, 6), (0, 4, 9), (5, 16, 9), (8, 11, 9), (12, 17, 9), (12, 15, 10), (1, 8, 11), (1, 12, 11), (5, 15, 11), (2, 3, 12), (2, 19, 13), (4, 10, 15), (8, 18, 15), (6, 10, 27)]\n",
      "wrote kruskal.html\n"
     ]
    }
   ],
   "source": [
    "import networkx as nx\n",
    "import numpy as np\n",
    "import sys\n",
    "sys.path.append(\"./lib\")\n",
    "from randomgraph import randomgraph\n",
    "from cytoscape1_js import create_html\n",
    "from kruskal_lib import kruskal\n",
    "\n",
    "output_file = 'kruskal.html'\n",
    "\n",
    "G = nx.read_graphml(\"AA5360_verkko.graphml\", node_type=int, edge_key_type=int)\n",
    "G.graph[\"highlight\"] = kruskal(G).graph['highlight']\n",
    "print(G.graph['highlight'])\n",
    "\n",
    "create_html(G, f'{output_file}', animate=True)\n",
    "print(f'wrote {output_file}')\n"
   ]
  }
 ],
 "metadata": {
  "interpreter": {
   "hash": "9149bc3bba6ccb64c7b84c1315bf165342a98fbddd36adc3d6498a8e2cd4b83f"
  },
  "kernelspec": {
   "display_name": "Python 3.10.3 ('venv': venv)",
   "language": "python",
   "name": "python3"
  },
  "language_info": {
   "codemirror_mode": {
    "name": "ipython",
    "version": 3
   },
   "file_extension": ".py",
   "mimetype": "text/x-python",
   "name": "python",
   "nbconvert_exporter": "python",
   "pygments_lexer": "ipython3",
   "version": "3.10.3"
  },
  "orig_nbformat": 4
 },
 "nbformat": 4,
 "nbformat_minor": 2
}
