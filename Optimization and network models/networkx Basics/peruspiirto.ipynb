{
 "cells": [
  {
   "cell_type": "code",
   "execution_count": 1,
   "metadata": {},
   "outputs": [
    {
     "ename": "KeyError",
     "evalue": "'colors'",
     "output_type": "error",
     "traceback": [
      "\u001b[1;31m---------------------------------------------------------------------------\u001b[0m",
      "\u001b[1;31mKeyError\u001b[0m                                  Traceback (most recent call last)",
      "\u001b[1;32mc:\\Users\\carlos\\Desktop\\Python\\venv\\P_networkX_piirtoa\\peruspiirto.ipynb Cell 1'\u001b[0m in \u001b[0;36m<cell line: 15>\u001b[1;34m()\u001b[0m\n\u001b[0;32m     <a href='vscode-notebook-cell:/c%3A/Users/carlos/Desktop/Python/venv/P_networkX_piirtoa/peruspiirto.ipynb#ch0000000?line=9'>10</a>\u001b[0m \u001b[39m#8 noodin verkko, linkin todennäköisyys 0.4\u001b[39;00m\n\u001b[0;32m     <a href='vscode-notebook-cell:/c%3A/Users/carlos/Desktop/Python/venv/P_networkX_piirtoa/peruspiirto.ipynb#ch0000000?line=10'>11</a>\u001b[0m \u001b[39m#Suunnattu True\u001b[39;00m\n\u001b[0;32m     <a href='vscode-notebook-cell:/c%3A/Users/carlos/Desktop/Python/venv/P_networkX_piirtoa/peruspiirto.ipynb#ch0000000?line=11'>12</a>\u001b[0m \u001b[39m#edgerange miltä väliltä luvut arvotaan linkkeihin\u001b[39;00m\n\u001b[0;32m     <a href='vscode-notebook-cell:/c%3A/Users/carlos/Desktop/Python/venv/P_networkX_piirtoa/peruspiirto.ipynb#ch0000000?line=12'>13</a>\u001b[0m \u001b[39m#G = randomgraph(8, 0.4, True, edgerange=(7,24))\u001b[39;00m\n\u001b[0;32m     <a href='vscode-notebook-cell:/c%3A/Users/carlos/Desktop/Python/venv/P_networkX_piirtoa/peruspiirto.ipynb#ch0000000?line=13'>14</a>\u001b[0m G \u001b[39m=\u001b[39m nx\u001b[39m.\u001b[39mread_graphml(\u001b[39m\"\u001b[39m\u001b[39mperuspiirto.graphml\u001b[39m\u001b[39m\"\u001b[39m, node_type\u001b[39m=\u001b[39m\u001b[39mint\u001b[39m, edge_key_type\u001b[39m=\u001b[39m\u001b[39mint\u001b[39m)\n\u001b[1;32m---> <a href='vscode-notebook-cell:/c%3A/Users/carlos/Desktop/Python/venv/P_networkX_piirtoa/peruspiirto.ipynb#ch0000000?line=14'>15</a>\u001b[0m create_html(G, output_filepath)\n\u001b[0;32m     <a href='vscode-notebook-cell:/c%3A/Users/carlos/Desktop/Python/venv/P_networkX_piirtoa/peruspiirto.ipynb#ch0000000?line=15'>16</a>\u001b[0m \u001b[39mprint\u001b[39m(\u001b[39mf\u001b[39m\u001b[39m\"\u001b[39m\u001b[39mwrote \u001b[39m\u001b[39m{\u001b[39;00moutput_filepath\u001b[39m.\u001b[39mabsolute()\u001b[39m}\u001b[39;00m\u001b[39m\"\u001b[39m)\n",
      "File \u001b[1;32mC:\\Users/carlos/Desktop/Python/venv/Lib\\cytoscape_js.py:90\u001b[0m, in \u001b[0;36mcreate_html\u001b[1;34m(G, outpath)\u001b[0m\n\u001b[0;32m     <a href='file:///c%3A/Users/carlos/Desktop/Python/venv/Lib/cytoscape_js.py?line=87'>88</a>\u001b[0m \u001b[39mdef\u001b[39;00m \u001b[39mcreate_html\u001b[39m(G, outpath):\n\u001b[1;32m---> <a href='file:///c%3A/Users/carlos/Desktop/Python/venv/Lib/cytoscape_js.py?line=89'>90</a>\u001b[0m     colors \u001b[39m=\u001b[39m G\u001b[39m.\u001b[39;49mgraph[\u001b[39m'\u001b[39;49m\u001b[39mcolors\u001b[39;49m\u001b[39m'\u001b[39;49m]\n\u001b[0;32m     <a href='file:///c%3A/Users/carlos/Desktop/Python/venv/Lib/cytoscape_js.py?line=90'>91</a>\u001b[0m     \u001b[39mfor\u001b[39;00m node \u001b[39min\u001b[39;00m G\u001b[39m.\u001b[39mnodes():\n\u001b[0;32m     <a href='file:///c%3A/Users/carlos/Desktop/Python/venv/Lib/cytoscape_js.py?line=91'>92</a>\u001b[0m         G\u001b[39m.\u001b[39mnodes[node][\u001b[39m'\u001b[39m\u001b[39mcolor\u001b[39m\u001b[39m'\u001b[39m] \u001b[39m=\u001b[39m \u001b[39mf\u001b[39m\u001b[39m'\u001b[39m\u001b[39m#\u001b[39m\u001b[39m{\u001b[39;00mcolormap[colors[node]]\u001b[39m}\u001b[39;00m\u001b[39m'\u001b[39m\n",
      "\u001b[1;31mKeyError\u001b[0m: 'colors'"
     ]
    }
   ],
   "source": [
    "import networkx as nx \n",
    "import numpy as np\n",
    "from pathlib import Path\n",
    "import sys\n",
    "sys.path.append(\"C:/Users/carlos/Desktop/Python/venv/Lib\")\n",
    "from randomgraph import randomgraph\n",
    "from cytoscape1_js import create_html\n",
    "\n",
    "output_filepath = Path('./testi.html')\n",
    "#8 noodin verkko, linkin todennäköisyys 0.4\n",
    "#Suunnattu True\n",
    "#edgerange miltä väliltä luvut arvotaan linkkeihin\n",
    "#G = randomgraph(8, 0.4, True, edgerange=(7,24))\n",
    "G = nx.read_graphml(\"peruspiirto.graphml\", node_type=int, edge_key_type=int)\n",
    "create_html(G, output_filepath)\n",
    "print(f\"wrote {output_filepath.absolute()}\")\n"
   ]
  }
 ],
 "metadata": {
  "interpreter": {
   "hash": "9149bc3bba6ccb64c7b84c1315bf165342a98fbddd36adc3d6498a8e2cd4b83f"
  },
  "kernelspec": {
   "display_name": "Python 3.10.3 ('venv': venv)",
   "language": "python",
   "name": "python3"
  },
  "language_info": {
   "codemirror_mode": {
    "name": "ipython",
    "version": 3
   },
   "file_extension": ".py",
   "mimetype": "text/x-python",
   "name": "python",
   "nbconvert_exporter": "python",
   "pygments_lexer": "ipython3",
   "version": "3.10.4"
  },
  "orig_nbformat": 4
 },
 "nbformat": 4,
 "nbformat_minor": 2
}
