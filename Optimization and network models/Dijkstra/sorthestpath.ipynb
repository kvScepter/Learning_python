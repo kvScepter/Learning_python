{
 "cells": [
  {
   "cell_type": "code",
   "execution_count": 16,
   "metadata": {},
   "outputs": [
    {
     "name": "stdout",
     "output_type": "stream",
     "text": [
      "109.0\n",
      "[6, 2, 10, 4]\n"
     ]
    }
   ],
   "source": [
    "import numpy as np\n",
    "import networkx as nx\n",
    "\n",
    "\n",
    "numpy_matriisi = np.genfromtxt('AA5360_kaupungit.csv', delimiter=',')\n",
    "G = nx.from_numpy_array(numpy_matriisi)\n",
    "reitti = nx.dijkstra_path(G, 6, 4)\n",
    "reitti_pituus = nx.dijkstra_path_length(G, 6, 4)\n",
    "\n",
    "\n",
    "print(reitti_pituus)\n",
    "print(reitti)\n",
    "\n",
    "\n",
    "\n"
   ]
  }
 ],
 "metadata": {
  "interpreter": {
   "hash": "9149bc3bba6ccb64c7b84c1315bf165342a98fbddd36adc3d6498a8e2cd4b83f"
  },
  "kernelspec": {
   "display_name": "Python 3.10.3 ('venv': venv)",
   "language": "python",
   "name": "python3"
  },
  "language_info": {
   "codemirror_mode": {
    "name": "ipython",
    "version": 3
   },
   "file_extension": ".py",
   "mimetype": "text/x-python",
   "name": "python",
   "nbconvert_exporter": "python",
   "pygments_lexer": "ipython3",
   "version": "3.10.4"
  },
  "orig_nbformat": 4
 },
 "nbformat": 4,
 "nbformat_minor": 2
}
