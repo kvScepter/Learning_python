{
 "cells": [
  {
   "cell_type": "code",
   "execution_count": 2,
   "metadata": {},
   "outputs": [
    {
     "name": "stdout",
     "output_type": "stream",
     "text": [
      "[(0, 1), (0, 3), (0, 4), (0, 11), (0, 15), (0, 18), (1, 5), (1, 7), (1, 8), (1, 12), (1, 19), (3, 2), (3, 6), (3, 13), (3, 16), (4, 10), (4, 14), (11, 9), (5, 17)]\n",
      "wrote bfs.html\n"
     ]
    }
   ],
   "source": [
    "import networkx as nx\n",
    "import numpy as np\n",
    "import sys\n",
    "sys.path.append(\"./Lib\")\n",
    "from randomgraph import randomgraph\n",
    "from cytoscape_js import create_html\n",
    "\n",
    "output_file = \"bfs.html\"\n",
    "\n",
    "G = nx.read_graphml(\"AA5360_verkko.graphml\", node_type=int, edge_key_type=int)\n",
    "bfs_start_node = 0\n",
    "print(list(nx.bfs_edges(G, bfs_start_node)))\n",
    "G.graph[\"highlight\"] = list(nx.bfs_edges(G, bfs_start_node))\n",
    "create_html(G, output_file, animate=True, offset=5000, frequency=2000)\n",
    "print(f'wrote {output_file}')\n"
   ]
  }
 ],
 "metadata": {
  "interpreter": {
   "hash": "17c990da2d7d5f3ee137b907d7f3fbd48d0285728aa3d7fa22685c419f257914"
  },
  "kernelspec": {
   "display_name": "Python 3.10.3 64-bit (windows store)",
   "language": "python",
   "name": "python3"
  },
  "language_info": {
   "codemirror_mode": {
    "name": "ipython",
    "version": 3
   },
   "file_extension": ".py",
   "mimetype": "text/x-python",
   "name": "python",
   "nbconvert_exporter": "python",
   "pygments_lexer": "ipython3",
   "version": "3.10.3"
  },
  "orig_nbformat": 4
 },
 "nbformat": 4,
 "nbformat_minor": 2
}
