{
 "cells": [
  {
   "cell_type": "code",
   "execution_count": 5,
   "metadata": {},
   "outputs": [
    {
     "name": "stdout",
     "output_type": "stream",
     "text": [
      "20\n",
      "{'A': {'B': 5, 'C': 0}, 'D': {}, 'B': {'D': 5}, 'C': {'D': 0}}\n"
     ]
    }
   ],
   "source": [
    "import networkx as nx\n",
    "import sys\n",
    "import matplotlib.pyplot as plt\n",
    "\n",
    "G = nx.DiGraph()\n",
    "\n",
    "G.add_node(\"A\", demand=-5)\n",
    "G.add_node(\"D\", demand=5)\n",
    "G.add_edge(\"A\", \"B\", weight=3, capasity=4)\n",
    "G.add_edge(\"A\", \"C\", weight=6, capasity=10)\n",
    "G.add_edge(\"B\", \"D\", weight=1, capasity=9)\n",
    "G.add_edge(\"C\", \"D\", weight=2, capasity=5)\n",
    "\n",
    "flowcost, flowdict = nx.network_simplex(G)\n",
    "\n",
    "print(flowcost)\n",
    "print(flowdict)\n",
    "\n",
    "\n"
   ]
  }
 ],
 "metadata": {
  "interpreter": {
   "hash": "9149bc3bba6ccb64c7b84c1315bf165342a98fbddd36adc3d6498a8e2cd4b83f"
  },
  "kernelspec": {
   "display_name": "Python 3.10.4 ('venv': venv)",
   "language": "python",
   "name": "python3"
  },
  "language_info": {
   "codemirror_mode": {
    "name": "ipython",
    "version": 3
   },
   "file_extension": ".py",
   "mimetype": "text/x-python",
   "name": "python",
   "nbconvert_exporter": "python",
   "pygments_lexer": "ipython3",
   "version": "3.10.4"
  },
  "orig_nbformat": 4
 },
 "nbformat": 4,
 "nbformat_minor": 2
}
