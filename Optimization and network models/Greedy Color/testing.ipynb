{
 "cells": [
  {
   "cell_type": "code",
   "execution_count": 1,
   "metadata": {},
   "outputs": [
    {
     "name": "stdout",
     "output_type": "stream",
     "text": [
      "Algoritmin tekemä komitea jako: {1: 0, 2: 0, 4: 0, 3: 1, 7: 1, 5: 2, 6: 3}\n",
      "Kokousten määrä: 4\n",
      "Komitea in html ./komitea_kokous2.html\n"
     ]
    }
   ],
   "source": [
    "import networkx as nx\n",
    "import matplotlib.pyplot as plt\n",
    "import sys\n",
    "sys.path.append(\"./Lib\")\n",
    "from cytoscape_js import create_html\n",
    "\n",
    "G = nx.Graph()\n",
    "\n",
    "G.add_nodes_from([1,7])\n",
    "\n",
    "G.add_edges_from([\n",
    "    (1,3),\n",
    "    (1,7),\n",
    "    (2,7),\n",
    "    (2,5),\n",
    "    (2,6),\n",
    "    (3,4),\n",
    "    (3,5),\n",
    "    (3,6),\n",
    "    (4,5),\n",
    "    (5,6),\n",
    "    (5,7),\n",
    "    (6,7)\n",
    "])\n",
    "\n",
    "colors = nx.greedy_color(G, strategy='independent_set')\n",
    "print('Algoritmin tekemä komitea jako:', colors)\n",
    "print('Kokousten määrä:', len(set(colors.values())))\n",
    "G.graph['colors'] = colors\n",
    "polku = './komitea_kokous2.html'\n",
    "create_html(G, polku)\n",
    "print('Komitea in html', polku)\n",
    "#nx.draw(G, with_labels=True)\n",
    "#plt.show"
   ]
  }
 ],
 "metadata": {
  "interpreter": {
   "hash": "a06e30aee820ff8fe24fb428cece021c5cdfc4bd84062afc0eba853e87fef366"
  },
  "kernelspec": {
   "display_name": "Python 3.11.0a6 64-bit",
   "language": "python",
   "name": "python3"
  },
  "language_info": {
   "codemirror_mode": {
    "name": "ipython",
    "version": 3
   },
   "file_extension": ".py",
   "mimetype": "text/x-python",
   "name": "python",
   "nbconvert_exporter": "python",
   "pygments_lexer": "ipython3",
   "version": "3.10.4"
  },
  "orig_nbformat": 4
 },
 "nbformat": 4,
 "nbformat_minor": 2
}
