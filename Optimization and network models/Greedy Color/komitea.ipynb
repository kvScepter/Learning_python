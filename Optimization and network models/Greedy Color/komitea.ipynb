{
 "cells": [
  {
   "cell_type": "code",
   "execution_count": null,
   "metadata": {},
   "outputs": [],
   "source": [
    "import networkx as nx\n",
    "import sys\n",
    "\n",
    "# G ei määritelty\n",
    "# product ei määritelty\n",
    "\n",
    "K = nx.Graph()\n",
    "\n",
    "komiteat = [G.nodes[node][\"komitea\"] for node in G.nodes()]\n",
    "K.add_nodes_from([str(komitea) for komitea in komiteat])\n",
    "\n",
    "for komiteapari in product(komiteat, komiteat):\n",
    "    if komiteapari[0] == komiteapari[1]:\n",
    "        continue\n",
    "    if len(komiteapari[0].intersection(komiteapari[1])) > 0:\n",
    "        komiteapari_str = (str(komitea) for komitea in komiteapari)\n",
    "        K.add_edge(*komiteapari_str)\n",
    "\n",
    "print('vastaus',len(set(nx.greedy_color(K).values())))"
   ]
  }
 ],
 "metadata": {
  "language_info": {
   "name": "python"
  },
  "orig_nbformat": 4
 },
 "nbformat": 4,
 "nbformat_minor": 2
}
