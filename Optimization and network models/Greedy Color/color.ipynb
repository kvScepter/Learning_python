{
 "cells": [
  {
   "cell_type": "code",
   "execution_count": 8,
   "metadata": {},
   "outputs": [
    {
     "name": "stdout",
     "output_type": "stream",
     "text": [
      "algoritmin antama väritys: {0: 0, 3: 1, 1: 2, 5: 1, 9: 0, 4: 2, 7: 0, 2: 1, 6: 2, 8: 2}\n",
      "värien lukumäärä: 3\n",
      "wrote ./suurin_kylläisyys_ensin.html\n"
     ]
    }
   ],
   "source": [
    "import networkx as nx\n",
    "import sys\n",
    "sys.path.append(\"C:/Users/carlos/Desktop/Python/venv/Lib\")\n",
    "from cytoscape_js import create_html\n",
    "#from bruteforce_color import bruteforce_color\n",
    "\n",
    "G = nx.read_graphml(\"AA5360.graphml\", node_type=int, edge_key_type=int)\n",
    "\n",
    "colors = nx.greedy_color(G, strategy='saturation_largest_first')\n",
    "#colors = bruteforce_color(G)\n",
    "\n",
    "print('algoritmin antama väritys:', colors)\n",
    "print('värien lukumäärä:', len(set(colors.values())))\n",
    "\n",
    "G.graph['colors'] = colors\n",
    "\n",
    "polku = './suurin_kylläisyys_ensin.html'\n",
    "create_html(G, polku)\n",
    "print('wrote', polku)\n"
   ]
  }
 ],
 "metadata": {
  "interpreter": {
   "hash": "9149bc3bba6ccb64c7b84c1315bf165342a98fbddd36adc3d6498a8e2cd4b83f"
  },
  "kernelspec": {
   "display_name": "Python 3.10.3 ('venv': venv)",
   "language": "python",
   "name": "python3"
  },
  "language_info": {
   "codemirror_mode": {
    "name": "ipython",
    "version": 3
   },
   "file_extension": ".py",
   "mimetype": "text/x-python",
   "name": "python",
   "nbconvert_exporter": "python",
   "pygments_lexer": "ipython3",
   "version": "3.10.4"
  },
  "orig_nbformat": 4
 },
 "nbformat": 4,
 "nbformat_minor": 2
}
