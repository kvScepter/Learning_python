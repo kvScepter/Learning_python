{
 "cells": [
  {
   "cell_type": "code",
   "execution_count": 3,
   "metadata": {},
   "outputs": [
    {
     "name": "stdout",
     "output_type": "stream",
     "text": [
      "tehty html tiedosto\n",
      "Kaupunkien välille tarvittava kaapeli määrä on: 330.0  Km\n"
     ]
    }
   ],
   "source": [
    "import numpy as np\n",
    "import networkx as nx\n",
    "from pathlib import Path\n",
    "import sys\n",
    "sys.path.append(\"C:/Users/carlos/Desktop/Python/venv/Lib\")\n",
    "from cytoscape1_js import create_html\n",
    "\n",
    "#millä nimellä tekee luettavan html tiedoston\n",
    "html_ulostus = Path('./spanning_tree.html')\n",
    "\n",
    "#csv tiedostossa oleva matriisi ulos, sisältää kaupunkien etäisyydet.\n",
    "numpy_matriisi = np.genfromtxt('city.csv', delimiter=',')\n",
    "G = nx.from_numpy_array(numpy_matriisi)\n",
    "\n",
    "#itse algoritmi mikä ajetaan matriisille. Oletus Kruskal.. muuta lisäämällä esim: , algorithm='prim'\n",
    "#mikä on lyhin reitti kaupunkien välillä kaapelille\n",
    "min = nx.minimum_spanning_tree(G, weight=\"weight\")\n",
    "\n",
    "#print(min)\n",
    "#print(min.edges(data=True))\n",
    "\n",
    "#ajetaan for looppi jotta saadaan kaaapelin pituus\n",
    "pituus = 0\n",
    "for edge in min.edges(data=True):\n",
    "    pituus += edge[2][\"weight\"]\n",
    "\n",
    "# alla verkko ennen miminum spannig tree algoa\n",
    "#create_html(G, html_ulostus)\n",
    "\n",
    "#piirtää miminum spanning tree algoritmin.\n",
    "create_html(min, html_ulostus)\n",
    "print(\"tehty html tiedosto\")\n",
    "print(\"Kaupunkien välille tarvittava kaapeli määrä on:\", pituus, \" Km\")"
   ]
  }
 ],
 "metadata": {
  "interpreter": {
   "hash": "9149bc3bba6ccb64c7b84c1315bf165342a98fbddd36adc3d6498a8e2cd4b83f"
  },
  "kernelspec": {
   "display_name": "Python 3.10.4 ('venv': venv)",
   "language": "python",
   "name": "python3"
  },
  "language_info": {
   "codemirror_mode": {
    "name": "ipython",
    "version": 3
   },
   "file_extension": ".py",
   "mimetype": "text/x-python",
   "name": "python",
   "nbconvert_exporter": "python",
   "pygments_lexer": "ipython3",
   "version": "3.10.4"
  },
  "orig_nbformat": 4
 },
 "nbformat": 4,
 "nbformat_minor": 2
}
