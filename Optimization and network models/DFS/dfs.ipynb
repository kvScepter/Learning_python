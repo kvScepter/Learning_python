{
 "cells": [
  {
   "cell_type": "code",
   "execution_count": 1,
   "metadata": {},
   "outputs": [
    {
     "name": "stdout",
     "output_type": "stream",
     "text": [
      "[(0, 1), (1, 5), (5, 11), (11, 4), (4, 3), (3, 2), (2, 9), (9, 6), (6, 8), (8, 13), (13, 14), (14, 10), (10, 17), (17, 7), (17, 12), (12, 15), (17, 19), (13, 16), (8, 18)]\n",
      "wrote dfs.html\n"
     ]
    }
   ],
   "source": [
    "import networkx as nx\n",
    "import numpy as np\n",
    "import sys\n",
    "sys.path.append(\"./Lib\")\n",
    "from randomgraph import randomgraph\n",
    "from cytoscape_js import create_html\n",
    "\n",
    "output_file = 'dfs.html'\n",
    "G = nx.read_graphml(\"AA5360_verkko.graphml\", node_type=int, edge_key_type=int)\n",
    "dfs_start_node = 0\n",
    "print(list(nx.dfs_edges(G, dfs_start_node)))\n",
    "G.graph[\"highlight\"] = list(nx.dfs_edges(G, dfs_start_node))\n",
    "create_html(G, output_file, animate=True, offset=5000, frequency=2000)\n",
    "print(f'wrote {output_file}')\n",
    "\n"
   ]
  }
 ],
 "metadata": {
  "interpreter": {
   "hash": "9149bc3bba6ccb64c7b84c1315bf165342a98fbddd36adc3d6498a8e2cd4b83f"
  },
  "kernelspec": {
   "display_name": "Python 3.10.3 ('venv': venv)",
   "language": "python",
   "name": "python3"
  },
  "language_info": {
   "codemirror_mode": {
    "name": "ipython",
    "version": 3
   },
   "file_extension": ".py",
   "mimetype": "text/x-python",
   "name": "python",
   "nbconvert_exporter": "python",
   "pygments_lexer": "ipython3",
   "version": "3.10.3"
  },
  "orig_nbformat": 4
 },
 "nbformat": 4,
 "nbformat_minor": 2
}
